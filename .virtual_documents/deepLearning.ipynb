


# Import our dependencies
from sklearn.model_selection import train_test_split
from sklearn.preprocessing import StandardScaler
import pandas as pd
import tensorflow as tf

#  Import and read the charity_data.csv.
import pandas as pd
application_df = pd.read_csv("https://static.bc-edx.com/data/dla-1-2/m21/lms/starter/charity_data.csv")
application_df.head()


# Drop the non-beneficial ID columns, 'EIN' and 'NAME'.
application_wanted_cols_df = application_df.drop(columns=["EIN","NAME"])
application_wanted_cols_df.head()


# Determine the number of unique values in each column.
application_cat = application_wanted_cols_df.dtypes[application_wanted_cols_df.dtypes == "object"].index.tolist()
application_wanted_cols_df[application_cat].nunique()


# Look at APPLICATION_TYPE value counts to identify and replace with "Other"
app_type_counts = application_wanted_cols_df["APPLICATION_TYPE"].value_counts()
app_type_counts


# Choose a cutoff value and create a list of application types to be replaced
# use the variable name `application_types_to_replace`
cutoff_val = 200
application_types_to_replace = app_type_counts[app_type_counts < cutoff_val]
application_types_to_replace = application_types_to_replace.index.values.tolist()

# Replace in dataframe
for app in application_types_to_replace:
    application_wanted_cols_df['APPLICATION_TYPE'] = application_wanted_cols_df['APPLICATION_TYPE'].replace(app,"Other")

# Check to make sure replacement was successful
application_wanted_cols_df['APPLICATION_TYPE'].value_counts()


# Look at CLASSIFICATION value counts to identify and replace with "Other"
classif_counts = application_wanted_cols_df["CLASSIFICATION"].value_counts()
classif_counts


# You may find it helpful to look at CLASSIFICATION value counts > 10 :)
cutoff_val = 10
classifications_to_see = classif_counts[classif_counts > cutoff_val]
classifications_to_see = classifications_to_see
classifications_to_see


# Choose a cutoff value and create a list of classifications to be replaced
# use the variable name `classifications_to_replace`
cutoff_val = 1000
classifications_to_replace = classif_counts[classif_counts < cutoff_val]
classifications_to_replace = classifications_to_replace.index.values.tolist()
classifications_to_replace

# Replace in dataframe
for cls in classifications_to_replace:
    application_wanted_cols_df['CLASSIFICATION'] = application_wanted_cols_df['CLASSIFICATION'].replace(cls,"Other")

# Check to make sure replacement was successful
application_wanted_cols_df['CLASSIFICATION'].value_counts()


# Convert categorical data to numeric with `pd.get_dummies`
application_dummies_df = pd.get_dummies(application_wanted_cols_df)
application_dummies_df.head()


# Split our preprocessed data into our features and target arrays
y = application_dummies_df.IS_SUCCESSFUL.values
X = application_dummies_df.drop(columns="IS_SUCCESSFUL").values

# Split the preprocessed data into a training and testing dataset
X_train, X_test, y_train, y_test = train_test_split(X, y, random_state=42, stratify=y)


# Create a StandardScaler instances
scaler = StandardScaler()

# Fit the StandardScaler
X_scaler = scaler.fit(X_train)

# Scale the data
X_train_scaled = X_scaler.transform(X_train)
X_test_scaled = X_scaler.transform(X_test)





# Define the model - deep neural net, i.e., the number of input features and hidden nodes for each layer.
#  YOUR CODE GOES HERE

nn = tf.keras.models.Sequential()

# First hidden layer
#  YOUR CODE GOES HERE

# Second hidden layer
#  YOUR CODE GOES HERE

# Output layer
#  YOUR CODE GOES HERE

# Check the structure of the model
nn.summary()


# Compile the model
#  YOUR CODE GOES HERE


# Train the model
#  YOUR CODE GOES HERE


# Evaluate the model using the test data
model_loss, model_accuracy = nn.evaluate(X_test_scaled,y_test,verbose=2)
print(f"Loss: {model_loss}, Accuracy: {model_accuracy}")


# Export our model to HDF5 file
#  YOUR CODE GOES HERE
